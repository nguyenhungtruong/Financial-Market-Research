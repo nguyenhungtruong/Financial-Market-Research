data = ['anl15_bps_s_18_m_total',	'anl15_bps_s_18_m_st_dev',	'anl15_bps_s_18_m_pe',	'anl15_bps_s_18_m_mean',	'anl15_bps_s_18_m_gro',	'anl15_bps_s_18_m_ests_up',	'anl15_bps_s_18_m_ests_dn',	'anl15_bps_s_18_m_ests',	'anl15_bps_s_18_m_cos_up',	'anl15_bps_s_18_m_cos_dn',	'anl15_bps_s_18_m_cos',	'anl15_bps_s_18_m_6m_chg',	'anl15_bps_s_18_m_3m_chg',	'anl15_bps_s_18_m_1m_chg',	'anl15_bps_s_12_m_tr_mean',	'anl15_bps_s_12_m_total',	'anl15_bps_s_12_m_st_dev',	'anl15_bps_s_12_m_pe',	'anl15_bps_s_12_m_mean',	'anl15_bps_s_12_m_gro',	'anl15_bps_s_12_m_ests_up',	'anl15_bps_s_12_m_ests_dn',	'anl15_bps_s_12_m_ests',	'anl15_bps_s_12_m_cos_up',	'anl15_bps_s_12_m_cos_dn',	'anl15_bps_s_12_m_cos',	'anl15_bps_s_12_m_6m_chg',	'anl15_bps_s_12_m_3m_chg',	'anl15_bps_s_12_m_1m_chg',	'anl15_bps_gr_fy3_ests_up',	'anl15_bps_gr_fy3_ests_dn',	'anl15_bps_gr_fy3_cos_up',	'anl15_bps_gr_fy3_cos_dn',	'anl15_bps_gr_fy2_ests_up',	'anl15_bps_gr_fy2_ests_dn',	'anl15_bps_gr_fy2_cos_up',	'anl15_bps_gr_fy2_cos_dn',	'anl15_bps_gr_fy1_ests_up',	'anl15_bps_gr_fy1_ests_dn',	'anl15_bps_gr_fy1_cos_up',	'anl15_bps_gr_fy1_cos_dn',	'anl15_bps_gr_cal_fy3_total',	'anl15_bps_gr_cal_fy3_pe',	'anl15_bps_gr_cal_fy3_mean',	'anl15_bps_gr_cal_fy3_gro',	'anl15_bps_gr_cal_fy3_ests',	'anl15_bps_gr_cal_fy3_cos',	'anl15_bps_gr_cal_fy3_3m_chg',	'anl15_bps_gr_cal_fy3_1m_chg',	'anl15_bps_gr_cal_fy2_total',	'anl15_bps_gr_cal_fy2_st_dev',	'anl15_bps_gr_cal_fy2_pe',	'anl15_bps_gr_cal_fy2_mean',	'anl15_bps_gr_cal_fy2_gro',	'anl15_bps_gr_cal_fy2_ests',	'anl15_bps_gr_cal_fy2_cos',	'anl15_bps_gr_cal_fy2_6m_chg',	'anl15_bps_gr_cal_fy2_3m_chg',	'anl15_bps_gr_cal_fy2_1m_chg',	'anl15_bps_gr_cal_fy1_total',	'anl15_bps_gr_cal_fy1_st_dev',	'anl15_bps_gr_cal_fy1_pe',	'anl15_bps_gr_cal_fy1_mean',	'anl15_bps_gr_cal_fy1_gro',	'anl15_bps_gr_cal_fy1_ests',	'anl15_bps_gr_cal_fy1_cos',	'anl15_bps_gr_cal_fy1_6m_chg',	'anl15_bps_gr_cal_fy1_3m_chg',	'anl15_bps_gr_cal_fy1_1m_chg',	'anl15_bps_gr_cal_fy0_val',	'anl15_bps_gr_cal_fy0_total',	'anl15_bps_gr_cal_fy0_pe',	'anl15_bps_gr_cal_fy0_gro',	'anl15_bps_gr_18_m_total',	'anl15_bps_gr_18_m_st_dev',	'anl15_bps_gr_18_m_pe',	'anl15_bps_gr_18_m_mean',	'anl15_bps_gr_18_m_gro',	'anl15_bps_gr_18_m_ests_up',	'anl15_bps_gr_18_m_ests_dn',	'anl15_bps_gr_18_m_ests',	'anl15_bps_gr_18_m_cos_up',	'anl15_bps_gr_18_m_cos_dn',	'anl15_bps_gr_18_m_cos',	'anl15_bps_gr_18_m_6m_chg',	'anl15_bps_gr_18_m_3m_chg',	'anl15_bps_gr_18_m_1m_chg',	'anl15_bps_gr_12_m_tr_mean',	'anl15_bps_gr_12_m_total',	'anl15_bps_gr_12_m_st_dev',	'anl15_bps_gr_12_m_pe',	'anl15_bps_gr_12_m_mean',	'anl15_bps_gr_12_m_gro',	'anl15_bps_gr_12_m_ests_up',	'anl15_bps_gr_12_m_ests_dn',	'anl15_bps_gr_12_m_ests',	'anl15_bps_gr_12_m_cos_up',	'anl15_bps_gr_12_m_cos_dn',	'anl15_bps_gr_12_m_cos',	'anl15_bps_gr_12_m_6m_chg',
]



pv1 = ['adv20','cap','close','dividend','returns','sharesout','split','volume','vwap']

ts_operators =  ['ts_rank','ts_zscore','ts_returns','ts_scale','ts_skewness','ts_arg_max','ts_std_dev','ts_arg_min','ts_delta','ts_median','ts_mean','ts_scale','ts_arg_min','ts_delay','ts_delta','ts_max','ts_min','ts_sum']

group = ['sector','industry','subindustry']

date = ['5','20','60','120','240']

with open('alpha.txt','a') as a:
    for x in data:
        alpha =  f"data ={x};rank(data) / sqrt(1-rank(data)**2) " + '\n'
        a.write(alpha)
   
           
       
            
       
      
              
            
             
            
        
        
        
    

with open('alpha.txt','a') as c:
    for k in range(10):
        c.write(str(k)+'\n')

with open ('alpha.txt') as b:
    lines=b.readlines()
    print (len(lines))


       

