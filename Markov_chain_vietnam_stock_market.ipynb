{
 "cells": [
  {
   "cell_type": "markdown",
   "id": "4ab62435",
   "metadata": {},
   "source": [
    "# Application of the Markov Chain to calculate the probability of a state \n",
    "# transition from Bear Market to Bull Market in Vietnam stock market"
   ]
  },
  {
   "cell_type": "markdown",
   "id": "7849c232",
   "metadata": {},
   "source": [
    "The Theory of the Markov Chain, readers can read it here \"https://en.wikipedia.org/wiki/Markov_chain\""
   ]
  },
  {
   "cell_type": "markdown",
   "id": "134cc758",
   "metadata": {},
   "source": [
    "I assume that state 1 of the market is a bull market for a stock index that is more than 200 session average, and state 2 of the market is a bear market for a stock index that is 200 sessions smaller than the average."
   ]
  },
  {
   "cell_type": "markdown",
   "id": "30c83f00",
   "metadata": {},
   "source": [
    "The data used is the Vietnam stock market index from 2013 to 2023. Readers can view it here\n",
    "https://drive.google.com/file/d/1haF-S_W5codfcILa9AtiXhOr8L-fn4HI/view"
   ]
  },
  {
   "cell_type": "code",
   "execution_count": 1,
   "id": "50011ec1",
   "metadata": {},
   "outputs": [],
   "source": [
    "import pandas as pd\n",
    "import numpy as np"
   ]
  },
  {
   "cell_type": "code",
   "execution_count": 5,
   "id": "16766345",
   "metadata": {},
   "outputs": [
    {
     "name": "stdout",
     "output_type": "stream",
     "text": [
      "2297\n"
     ]
    },
    {
     "data": {
      "text/html": [
       "<div>\n",
       "<style scoped>\n",
       "    .dataframe tbody tr th:only-of-type {\n",
       "        vertical-align: middle;\n",
       "    }\n",
       "\n",
       "    .dataframe tbody tr th {\n",
       "        vertical-align: top;\n",
       "    }\n",
       "\n",
       "    .dataframe thead th {\n",
       "        text-align: right;\n",
       "    }\n",
       "</style>\n",
       "<table border=\"1\" class=\"dataframe\">\n",
       "  <thead>\n",
       "    <tr style=\"text-align: right;\">\n",
       "      <th></th>\n",
       "      <th>date</th>\n",
       "      <th>price</th>\n",
       "      <th>open</th>\n",
       "      <th>high</th>\n",
       "      <th>low</th>\n",
       "      <th>vol</th>\n",
       "      <th>change</th>\n",
       "      <th>ma200</th>\n",
       "    </tr>\n",
       "  </thead>\n",
       "  <tbody>\n",
       "    <tr>\n",
       "      <th>0</th>\n",
       "      <td>12/9/2013</td>\n",
       "      <td>511.23</td>\n",
       "      <td>514.13</td>\n",
       "      <td>514.13</td>\n",
       "      <td>510.94</td>\n",
       "      <td>102.31K</td>\n",
       "      <td>0.0022</td>\n",
       "      <td>492.89210</td>\n",
       "    </tr>\n",
       "    <tr>\n",
       "      <th>1</th>\n",
       "      <td>12/10/2013</td>\n",
       "      <td>511.60</td>\n",
       "      <td>512.10</td>\n",
       "      <td>513.83</td>\n",
       "      <td>510.24</td>\n",
       "      <td>80.98K</td>\n",
       "      <td>0.0007</td>\n",
       "      <td>493.02980</td>\n",
       "    </tr>\n",
       "    <tr>\n",
       "      <th>2</th>\n",
       "      <td>12/11/2013</td>\n",
       "      <td>505.31</td>\n",
       "      <td>511.74</td>\n",
       "      <td>511.81</td>\n",
       "      <td>504.9</td>\n",
       "      <td>103.54K</td>\n",
       "      <td>-0.0123</td>\n",
       "      <td>493.26255</td>\n",
       "    </tr>\n",
       "    <tr>\n",
       "      <th>3</th>\n",
       "      <td>12/12/2013</td>\n",
       "      <td>506.92</td>\n",
       "      <td>503.77</td>\n",
       "      <td>507.68</td>\n",
       "      <td>503.76</td>\n",
       "      <td>80.16K</td>\n",
       "      <td>0.0032</td>\n",
       "      <td>493.46050</td>\n",
       "    </tr>\n",
       "    <tr>\n",
       "      <th>4</th>\n",
       "      <td>12/13/2013</td>\n",
       "      <td>506.06</td>\n",
       "      <td>507.07</td>\n",
       "      <td>509.35</td>\n",
       "      <td>505.49</td>\n",
       "      <td>67.67K</td>\n",
       "      <td>-0.0017</td>\n",
       "      <td>493.62230</td>\n",
       "    </tr>\n",
       "  </tbody>\n",
       "</table>\n",
       "</div>"
      ],
      "text/plain": [
       "         date   price    open    high     low      vol  change      ma200\n",
       "0   12/9/2013  511.23  514.13  514.13  510.94  102.31K  0.0022  492.89210\n",
       "1  12/10/2013  511.60  512.10  513.83  510.24   80.98K  0.0007  493.02980\n",
       "2  12/11/2013  505.31  511.74  511.81   504.9  103.54K -0.0123  493.26255\n",
       "3  12/12/2013  506.92  503.77  507.68  503.76   80.16K  0.0032  493.46050\n",
       "4  12/13/2013  506.06  507.07  509.35  505.49   67.67K -0.0017  493.62230"
      ]
     },
     "execution_count": 5,
     "metadata": {},
     "output_type": "execute_result"
    }
   ],
   "source": [
    "# load data\n",
    "data = pd.read_csv(r\"C:\\Users\\DPC\\Desktop\\data\\markov.csv\")\n",
    "print(len(data))\n",
    "data.head()"
   ]
  },
  {
   "cell_type": "code",
   "execution_count": 12,
   "id": "1a49fa84",
   "metadata": {},
   "outputs": [
    {
     "data": {
      "text/html": [
       "<div>\n",
       "<style scoped>\n",
       "    .dataframe tbody tr th:only-of-type {\n",
       "        vertical-align: middle;\n",
       "    }\n",
       "\n",
       "    .dataframe tbody tr th {\n",
       "        vertical-align: top;\n",
       "    }\n",
       "\n",
       "    .dataframe thead th {\n",
       "        text-align: right;\n",
       "    }\n",
       "</style>\n",
       "<table border=\"1\" class=\"dataframe\">\n",
       "  <thead>\n",
       "    <tr style=\"text-align: right;\">\n",
       "      <th></th>\n",
       "      <th>date</th>\n",
       "      <th>price</th>\n",
       "      <th>open</th>\n",
       "      <th>high</th>\n",
       "      <th>low</th>\n",
       "      <th>vol</th>\n",
       "      <th>change</th>\n",
       "      <th>ma200</th>\n",
       "      <th>condition</th>\n",
       "    </tr>\n",
       "  </thead>\n",
       "  <tbody>\n",
       "    <tr>\n",
       "      <th>0</th>\n",
       "      <td>12/9/2013</td>\n",
       "      <td>511.23</td>\n",
       "      <td>514.13</td>\n",
       "      <td>514.13</td>\n",
       "      <td>510.94</td>\n",
       "      <td>102.31K</td>\n",
       "      <td>0.0022</td>\n",
       "      <td>492.89210</td>\n",
       "      <td>1</td>\n",
       "    </tr>\n",
       "    <tr>\n",
       "      <th>1</th>\n",
       "      <td>12/10/2013</td>\n",
       "      <td>511.60</td>\n",
       "      <td>512.10</td>\n",
       "      <td>513.83</td>\n",
       "      <td>510.24</td>\n",
       "      <td>80.98K</td>\n",
       "      <td>0.0007</td>\n",
       "      <td>493.02980</td>\n",
       "      <td>1</td>\n",
       "    </tr>\n",
       "    <tr>\n",
       "      <th>2</th>\n",
       "      <td>12/11/2013</td>\n",
       "      <td>505.31</td>\n",
       "      <td>511.74</td>\n",
       "      <td>511.81</td>\n",
       "      <td>504.9</td>\n",
       "      <td>103.54K</td>\n",
       "      <td>-0.0123</td>\n",
       "      <td>493.26255</td>\n",
       "      <td>1</td>\n",
       "    </tr>\n",
       "    <tr>\n",
       "      <th>3</th>\n",
       "      <td>12/12/2013</td>\n",
       "      <td>506.92</td>\n",
       "      <td>503.77</td>\n",
       "      <td>507.68</td>\n",
       "      <td>503.76</td>\n",
       "      <td>80.16K</td>\n",
       "      <td>0.0032</td>\n",
       "      <td>493.46050</td>\n",
       "      <td>1</td>\n",
       "    </tr>\n",
       "    <tr>\n",
       "      <th>4</th>\n",
       "      <td>12/13/2013</td>\n",
       "      <td>506.06</td>\n",
       "      <td>507.07</td>\n",
       "      <td>509.35</td>\n",
       "      <td>505.49</td>\n",
       "      <td>67.67K</td>\n",
       "      <td>-0.0017</td>\n",
       "      <td>493.62230</td>\n",
       "      <td>1</td>\n",
       "    </tr>\n",
       "  </tbody>\n",
       "</table>\n",
       "</div>"
      ],
      "text/plain": [
       "         date   price    open    high     low      vol  change      ma200  \\\n",
       "0   12/9/2013  511.23  514.13  514.13  510.94  102.31K  0.0022  492.89210   \n",
       "1  12/10/2013  511.60  512.10  513.83  510.24   80.98K  0.0007  493.02980   \n",
       "2  12/11/2013  505.31  511.74  511.81   504.9  103.54K -0.0123  493.26255   \n",
       "3  12/12/2013  506.92  503.77  507.68  503.76   80.16K  0.0032  493.46050   \n",
       "4  12/13/2013  506.06  507.07  509.35  505.49   67.67K -0.0017  493.62230   \n",
       "\n",
       "   condition  \n",
       "0          1  \n",
       "1          1  \n",
       "2          1  \n",
       "3          1  \n",
       "4          1  "
      ]
     },
     "execution_count": 12,
     "metadata": {},
     "output_type": "execute_result"
    }
   ],
   "source": [
    "# Set condition: if price > moving average 200 then 1 else 0\n",
    "condition = []\n",
    "for i in range(len(data)):\n",
    "    if data.iloc[i,1] > data.iloc[i,7]:\n",
    "        condition.append(1)\n",
    "    else:\n",
    "        condition.append(0)\n",
    "data[\"condition\"] = condition\n",
    "data.head()"
   ]
  },
  {
   "cell_type": "code",
   "execution_count": 42,
   "id": "d1f437e8",
   "metadata": {},
   "outputs": [
    {
     "name": "stdout",
     "output_type": "stream",
     "text": [
      "1446\n"
     ]
    }
   ],
   "source": [
    "# Transition from state 1 to state 1\n",
    "t11 = []\n",
    "for i in range(len(data)-1):\n",
    "    if data.iloc[i,8] == 1:\n",
    "        if data.iloc[i+1,8] == 1:\n",
    "            t11.append(1)\n",
    "        else: \n",
    "            t11.append(0)\n",
    "    else: \n",
    "        t11.append(0)\n",
    "sumt11 = sum(t11)\n",
    "print(sumt11)"
   ]
  },
  {
   "cell_type": "code",
   "execution_count": 43,
   "id": "b51c4066",
   "metadata": {},
   "outputs": [
    {
     "name": "stdout",
     "output_type": "stream",
     "text": [
      "22\n"
     ]
    }
   ],
   "source": [
    "# Transition from state 1 to state 0\n",
    "t10 = []\n",
    "for i in range(len(data)-1):\n",
    "    if data.iloc[i,8] == 1:\n",
    "        if data.iloc[i+1,8] == 0:\n",
    "            t10.append(1)\n",
    "        else: \n",
    "            t10.append(0)\n",
    "    else: \n",
    "        t10.append(0)\n",
    "sumt10 = sum(t10)\n",
    "print(sumt10)"
   ]
  },
  {
   "cell_type": "code",
   "execution_count": 44,
   "id": "c411bc8b",
   "metadata": {},
   "outputs": [
    {
     "name": "stdout",
     "output_type": "stream",
     "text": [
      "p11 = 0.9850136239782016\n",
      "p10 = 0.01498637602179842\n"
     ]
    }
   ],
   "source": [
    "# Probability of state transition 1 to 1\n",
    "p11 = sumt11 / (sumt11+sumt10)\n",
    "# Probability of state transition 1 to 0\n",
    "p10 = 1 - p11\n",
    "print(\"p11 =\",p11)\n",
    "print(\"p10 =\",p10)"
   ]
  },
  {
   "cell_type": "code",
   "execution_count": 41,
   "id": "fad5f4b8",
   "metadata": {},
   "outputs": [
    {
     "name": "stdout",
     "output_type": "stream",
     "text": [
      "807\n"
     ]
    }
   ],
   "source": [
    "# Transition from state 0 to state 0\n",
    "t00 = []\n",
    "for i in range(len(data)-1):\n",
    "    if data.iloc[i,8] == 0:\n",
    "        if data.iloc[i+1,8] == 0:\n",
    "            t00.append(1)\n",
    "        else: \n",
    "            t00.append(0)\n",
    "    else: \n",
    "        t00.append(0)\n",
    "sumt00 = sum(t00)\n",
    "print(sumt00)"
   ]
  },
  {
   "cell_type": "code",
   "execution_count": 45,
   "id": "f07022c2",
   "metadata": {},
   "outputs": [
    {
     "name": "stdout",
     "output_type": "stream",
     "text": [
      "21\n"
     ]
    }
   ],
   "source": [
    "# Transition from state 0 to state 1\n",
    "t01 = []\n",
    "for i in range(len(data)-1):\n",
    "    if data.iloc[i,8] == 0:\n",
    "        if data.iloc[i+1,8] == 1:\n",
    "            t01.append(1)\n",
    "        else: \n",
    "            t01.append(0)\n",
    "    else: \n",
    "        t01.append(0)\n",
    "sumt01 = sum(t01)\n",
    "print(sumt01)"
   ]
  },
  {
   "cell_type": "code",
   "execution_count": 47,
   "id": "e9c3b288",
   "metadata": {},
   "outputs": [
    {
     "name": "stdout",
     "output_type": "stream",
     "text": [
      "p11 = 0.9746376811594203\n",
      "p10 = 0.025362318840579712\n"
     ]
    }
   ],
   "source": [
    "# Probability of state transition 0 to 0\n",
    "p00 = sumt00 / (sumt00+sumt01)\n",
    "# Probability of state transition 0 to 1\n",
    "p01 = 1 - p00\n",
    "print(\"p11 =\",p00)\n",
    "print(\"p10 =\",p01)"
   ]
  },
  {
   "cell_type": "code",
   "execution_count": 48,
   "id": "65fa3ceb",
   "metadata": {},
   "outputs": [
    {
     "name": "stdout",
     "output_type": "stream",
     "text": [
      "[[0.98501362 0.02536232]\n",
      " [0.01498638 0.97463768]]\n"
     ]
    }
   ],
   "source": [
    "# Transition Probability Matrix\n",
    "markov_matrix = np.array([[p11,p01],[p10,p00]])\n",
    "print(markov_matrix)"
   ]
  },
  {
   "cell_type": "code",
   "execution_count": 49,
   "id": "46af63df",
   "metadata": {},
   "outputs": [
    {
     "name": "stdout",
     "output_type": "stream",
     "text": [
      "E-value: [1.         0.95965131]\n",
      "E-vector [[ 0.8609332  -0.70710678]\n",
      " [ 0.50871802  0.70710678]]\n"
     ]
    }
   ],
   "source": [
    "#The long run state of the Markov chain\n",
    "from numpy.linalg import eig\n",
    "w,v=eig(markov_matrix)\n",
    "print('E-value:', w)\n",
    "print('E-vector', v)"
   ]
  },
  {
   "cell_type": "markdown",
   "id": "592b042b",
   "metadata": {},
   "source": [
    "#### In the long term, the probability vector [ p(state1/state1), p(state1/state0)] will be the eigenvector of the Transition Probability\n",
    "#### Matrix. In this case, I would choose p(state1/state1) = 0.50871802 and p(state0/state1) = 0.70710678"
   ]
  },
  {
   "cell_type": "markdown",
   "id": "9c8c0d3e",
   "metadata": {},
   "source": [
    "# About the Authors:"
   ]
  },
  {
   "cell_type": "markdown",
   "id": "d2c04316",
   "metadata": {},
   "source": [
    "My name is Nguyen Hung Truong, I am currently a research consultant at Worldquant investment LLC. My main job is to focus on studying patterns to come up with optimal strategies in stock trading."
   ]
  }
 ],
 "metadata": {
  "kernelspec": {
   "display_name": "Python 3 (ipykernel)",
   "language": "python",
   "name": "python3"
  },
  "language_info": {
   "codemirror_mode": {
    "name": "ipython",
    "version": 3
   },
   "file_extension": ".py",
   "mimetype": "text/x-python",
   "name": "python",
   "nbconvert_exporter": "python",
   "pygments_lexer": "ipython3",
   "version": "3.10.9"
  }
 },
 "nbformat": 4,
 "nbformat_minor": 5
}
