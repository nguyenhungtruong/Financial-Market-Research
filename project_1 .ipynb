{
 "cells": [
  {
   "cell_type": "markdown",
   "id": "171e8442",
   "metadata": {},
   "source": [
    "# Machine Learning to filter strong stocks using KNN"
   ]
  },
  {
   "cell_type": "markdown",
   "id": "d9cd7577",
   "metadata": {},
   "source": [
    "+ In this research, I use the knn model to filter the strongest stocks with 2 criteria, price growth and revenue growth in 6 months, and assign stocks with 1-year growth rate > 50% as 1, < 50% equals 0 .I use data of large and mid-cap stocks including:\n",
    "  + Change in stock price for 6 months (percentage).\n",
    "  + Change in gross profit for 6 months (percentage).\n",
    "  + Labels for stocks (1 assignment with Change in stock price in 1 year is greater than 50% or 0 assign with Change in stock price in 1 year is less than 50%).\n",
    "+ Time frame (Jan/1/2020-Dec/31/2020 ).\n",
    "+ Research model: Machine Learning-KNN."
   ]
  },
  {
   "cell_type": "code",
   "execution_count": 34,
   "id": "11ff602d",
   "metadata": {},
   "outputs": [],
   "source": [
    "import pandas as pd\n",
    "import numpy as np\n",
    "from sklearn.model_selection import train_test_split\n",
    "from sklearn.preprocessing import StandardScaler\n",
    "from sklearn.neighbors import KNeighborsClassifier\n",
    "from sklearn.metrics import confusion_matrix\n",
    "from sklearn.metrics import f1_score\n",
    "from sklearn.metrics import accuracy_score"
   ]
  },
  {
   "cell_type": "code",
   "execution_count": 35,
   "id": "24de589f",
   "metadata": {},
   "outputs": [
    {
     "data": {
      "text/html": [
       "<div>\n",
       "<style scoped>\n",
       "    .dataframe tbody tr th:only-of-type {\n",
       "        vertical-align: middle;\n",
       "    }\n",
       "\n",
       "    .dataframe tbody tr th {\n",
       "        vertical-align: top;\n",
       "    }\n",
       "\n",
       "    .dataframe thead th {\n",
       "        text-align: right;\n",
       "    }\n",
       "</style>\n",
       "<table border=\"1\" class=\"dataframe\">\n",
       "  <thead>\n",
       "    <tr style=\"text-align: right;\">\n",
       "      <th></th>\n",
       "      <th>ma_ck</th>\n",
       "      <th>returns_6m_q1q2</th>\n",
       "      <th>change_gross_profit_6m</th>\n",
       "      <th>strong_weak</th>\n",
       "    </tr>\n",
       "  </thead>\n",
       "  <tbody>\n",
       "    <tr>\n",
       "      <th>0</th>\n",
       "      <td>aaa</td>\n",
       "      <td>-0.052170</td>\n",
       "      <td>-0.456314</td>\n",
       "      <td>0</td>\n",
       "    </tr>\n",
       "    <tr>\n",
       "      <th>1</th>\n",
       "      <td>acb</td>\n",
       "      <td>-0.021743</td>\n",
       "      <td>0.134051</td>\n",
       "      <td>1</td>\n",
       "    </tr>\n",
       "    <tr>\n",
       "      <th>2</th>\n",
       "      <td>anv</td>\n",
       "      <td>-0.180904</td>\n",
       "      <td>-0.578910</td>\n",
       "      <td>0</td>\n",
       "    </tr>\n",
       "    <tr>\n",
       "      <th>3</th>\n",
       "      <td>asm</td>\n",
       "      <td>-0.144790</td>\n",
       "      <td>-0.035623</td>\n",
       "      <td>1</td>\n",
       "    </tr>\n",
       "    <tr>\n",
       "      <th>4</th>\n",
       "      <td>bcg</td>\n",
       "      <td>0.043372</td>\n",
       "      <td>0.171716</td>\n",
       "      <td>1</td>\n",
       "    </tr>\n",
       "  </tbody>\n",
       "</table>\n",
       "</div>"
      ],
      "text/plain": [
       "  ma_ck  returns_6m_q1q2  change_gross_profit_6m  strong_weak\n",
       "0   aaa        -0.052170               -0.456314            0\n",
       "1   acb        -0.021743                0.134051            1\n",
       "2   anv        -0.180904               -0.578910            0\n",
       "3   asm        -0.144790               -0.035623            1\n",
       "4   bcg         0.043372                0.171716            1"
      ]
     },
     "execution_count": 35,
     "metadata": {},
     "output_type": "execute_result"
    }
   ],
   "source": [
    "data_set = pd.read_excel(r\"C:\\Users\\DPC\\Desktop\\knn_data.xlsx\")\n",
    "data_set.head()"
   ]
  },
  {
   "cell_type": "code",
   "execution_count": 39,
   "id": "7a1fc9eb",
   "metadata": {},
   "outputs": [
    {
     "name": "stdout",
     "output_type": "stream",
     "text": [
      "    returns_6m_q1q2  change_gross_profit_6m\n",
      "0         -0.052170               -0.456314\n",
      "1         -0.021743                0.134051\n",
      "2         -0.180904               -0.578910\n",
      "3         -0.144790               -0.035623\n",
      "4          0.043372                0.171716\n",
      "..              ...                     ...\n",
      "86        -0.000895                0.043645\n",
      "87        -0.100218                0.087883\n",
      "88        -0.004790                0.770229\n",
      "89        -0.164725               -0.272598\n",
      "90        -0.220639               -0.946430\n",
      "\n",
      "[91 rows x 2 columns]\n",
      "0     0\n",
      "1     1\n",
      "2     0\n",
      "3     1\n",
      "4     1\n",
      "     ..\n",
      "86    0\n",
      "87    0\n",
      "88    0\n",
      "89    0\n",
      "90    0\n",
      "Name: strong_weak, Length: 91, dtype: int64\n"
     ]
    }
   ],
   "source": [
    "#split data_set\n",
    "x = data_set.iloc[:,1:3]\n",
    "y = data_set.iloc[:,3]\n",
    "x_train,x_test,y_train,y_test = train_test_split(x,y,test_size = 0.2)\n",
    "print(x)\n",
    "print(y)"
   ]
  },
  {
   "cell_type": "code",
   "execution_count": 40,
   "id": "deb25f7b",
   "metadata": {},
   "outputs": [],
   "source": [
    "# feature scalling\n",
    "sc_x = StandardScaler()\n",
    "x_train = sc_x.fit_transform(x_train)\n",
    "x_test = sc_x.transform(x_test)"
   ]
  },
  {
   "cell_type": "code",
   "execution_count": 42,
   "id": "c759bb66",
   "metadata": {},
   "outputs": [
    {
     "data": {
      "text/plain": [
       "KNeighborsClassifier(metric='euclidean', n_neighbors=9)"
      ]
     },
     "execution_count": 42,
     "metadata": {},
     "output_type": "execute_result"
    }
   ],
   "source": [
    "# define the model: Init-KNN\n",
    "classifier = KNeighborsClassifier(n_neighbors = 9,p=2,metric = 'euclidean')\n",
    "#fit model\n",
    "classifier.fit(x_train,y_train)"
   ]
  },
  {
   "cell_type": "code",
   "execution_count": 43,
   "id": "2c30ac41",
   "metadata": {},
   "outputs": [
    {
     "name": "stderr",
     "output_type": "stream",
     "text": [
      "C:\\Users\\DPC\\anaconda3\\lib\\site-packages\\sklearn\\neighbors\\_classification.py:228: FutureWarning: Unlike other reduction functions (e.g. `skew`, `kurtosis`), the default behavior of `mode` typically preserves the axis it acts along. In SciPy 1.11.0, this behavior will change: the default value of `keepdims` will become False, the `axis` over which the statistic is taken will be eliminated, and the value None will no longer be accepted. Set `keepdims` to True or False to avoid this warning.\n",
      "  mode, _ = stats.mode(_y[neigh_ind, k], axis=1)\n"
     ]
    },
    {
     "data": {
      "text/plain": [
       "array([1, 0, 0, 0, 0, 0, 0, 1, 1, 0, 0, 0, 1, 0, 1, 1, 0, 0, 1],\n",
       "      dtype=int64)"
      ]
     },
     "execution_count": 43,
     "metadata": {},
     "output_type": "execute_result"
    }
   ],
   "source": [
    "# Predict the test set results\n",
    "y_pred = classifier.predict(x_test)\n",
    "y_pred"
   ]
  },
  {
   "cell_type": "code",
   "execution_count": 44,
   "id": "430ffacf",
   "metadata": {},
   "outputs": [
    {
     "name": "stdout",
     "output_type": "stream",
     "text": [
      "[[10  1]\n",
      " [ 2  6]]\n"
     ]
    }
   ],
   "source": [
    "# Evaluate Model\n",
    "cm = confusion_matrix(y_test,y_pred)\n",
    "print(cm)"
   ]
  },
  {
   "cell_type": "code",
   "execution_count": 45,
   "id": "d7696b5f",
   "metadata": {},
   "outputs": [
    {
     "name": "stdout",
     "output_type": "stream",
     "text": [
      "0.7999999999999999\n"
     ]
    }
   ],
   "source": [
    "print(f1_score(y_test,y_pred))"
   ]
  },
  {
   "cell_type": "code",
   "execution_count": 47,
   "id": "8ceb2352",
   "metadata": {},
   "outputs": [
    {
     "name": "stdout",
     "output_type": "stream",
     "text": [
      "0.8421052631578947\n"
     ]
    }
   ],
   "source": [
    "# model accuracy\n",
    "print(accuracy_score(y_test,y_pred))"
   ]
  },
  {
   "cell_type": "markdown",
   "id": "88f88ecf",
   "metadata": {},
   "source": [
    "# About the Authors:"
   ]
  },
  {
   "cell_type": "markdown",
   "id": "82f922ba",
   "metadata": {},
   "source": [
    "My name is Nguyen Hung Truong, I am currently a research consultant at Worldquant investment LLC. My main job is to focus on studying patterns to come up with optimal strategies in stock trading.\n"
   ]
  }
 ],
 "metadata": {
  "kernelspec": {
   "display_name": "Python 3 (ipykernel)",
   "language": "python",
   "name": "python3"
  },
  "language_info": {
   "codemirror_mode": {
    "name": "ipython",
    "version": 3
   },
   "file_extension": ".py",
   "mimetype": "text/x-python",
   "name": "python",
   "nbconvert_exporter": "python",
   "pygments_lexer": "ipython3",
   "version": "3.9.13"
  }
 },
 "nbformat": 4,
 "nbformat_minor": 5
}
